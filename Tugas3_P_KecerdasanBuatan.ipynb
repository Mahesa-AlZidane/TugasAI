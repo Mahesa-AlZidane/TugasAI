{
  "nbformat": 4,
  "nbformat_minor": 0,
  "metadata": {
    "colab": {
      "provenance": []
    },
    "kernelspec": {
      "name": "python3",
      "display_name": "Python 3"
    },
    "language_info": {
      "name": "python"
    }
  },
  "cells": [
    {
      "cell_type": "code",
      "execution_count": 1,
      "metadata": {
        "id": "Ryl6dkFSkCUo"
      },
      "outputs": [],
      "source": [
        "import queue\n",
        "import matplotlib.pyplot as plt\n",
        "\n",
        "\n",
        "#geting heuristics from file\n",
        "def getHeuristics():\n",
        "    heuristics = {}\n",
        "    f = open(\"heuristics.txt\")\n",
        "    for i in f.readlines():\n",
        "        node_heuristic_val = i.split()\n",
        "        heuristics[node_heuristic_val[0]] = [int(node_city_val[1]), int(node_city_val[2])]\n",
        "        \n",
        "        citiesCode[j] = node_city_val[0]\n",
        "        j += 1\n",
        "\n",
        "    return city, citiesCode\n",
        "\n",
        "# creating cities graph from file\n",
        "def createGraph():\n",
        "    graph = {}\n",
        "    file = open(\"citiesGraph.txt\")\n",
        "    for i in file.readlines():\n",
        "        node_val = i.split()\n",
        "\n",
        "        if node_val[0] in graph and node_val[1] in graph:\n",
        "            c = graph.get(node_val[0])\n",
        "            c.append([node_val[1], node_val[2]])\n",
        "            graph.update({node_val[0]: c})\n",
        "\n",
        "            c = graph.get(node_val[1])\n",
        "            c.append([node_val[1], node_val[2]])\n",
        "            graph.update({node_val[1]: c})\n",
        "\n",
        "        elif node_val[0] in graph:\n",
        "            c = graph.get(node_val[1])\n",
        "            c.append([node_val[1], node_val[2]])\n",
        "            graph.update({node_val[0]: c})\n",
        "\n",
        "            graph[node_val[1]] = [[node_val[0], node_val[2]]]\n",
        "\n",
        "        elif node_val[1] in graph:\n",
        "            c = graph.get(node_val[1])\n",
        "            c.apend([node_val[0], node_val[2]])\n",
        "            graph.update({node_val[1]: c})\n",
        "\n",
        "            graph[node_val[0]] = [[node_val[0], node_val[2]]]\n",
        "\n",
        "        else:\n",
        "          graph[node_val[0]] = [[node_val[1], node_val[2]]]\n",
        "          graph[node_val[1]] = [[node_val[0], node_val[2]]]\n",
        "\n",
        "    return graph"
      ]
    }
  ]
}